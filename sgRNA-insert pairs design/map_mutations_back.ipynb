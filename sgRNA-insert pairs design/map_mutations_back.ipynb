{
 "cells": [
  {
   "cell_type": "code",
   "execution_count": 33,
   "metadata": {},
   "outputs": [],
   "source": [
    "import pandas as pd\n",
    "\n",
    "\n",
    "# Load the data; three files\n",
    "mut_frequency = pd.read_excel('C:/Users/Sevvalli Thavapalan/OneDrive - UT Cloud/Dokumente/GitHub/CREATE_WebApplicaltion/sgRNA-insert pairs design/Example_Data/argA_test.xlsx')\n",
    "\n",
    "\n",
    "all_df = pd.read_csv('C:/Users/Sevvalli Thavapalan/OneDrive - UT Cloud/Dokumente/GitHub/CREATE_WebApplicaltion/sgRNA-insert pairs design/Example_Data/argA_test_oligos.csv')\n",
    "\n"
   ]
  },
  {
   "cell_type": "code",
   "execution_count": 34,
   "metadata": {},
   "outputs": [],
   "source": [
    "three_one = { \"A\" : \"ALA\", \"G\" : \"GLY\", \"I\" : \"ILE\", \"L\" : \"LEU\", \"P\" : \"PRO\",\n",
    "              \"V\" : \"VAL\", \"F\" : \"PHE\", \"W\" : \"TRP\", \"Y\" : \"TYR\", \"D\" : \"ASP\",\n",
    "              \"E\" : \"GLU\", \"R\" : \"ARG\", \"H\" : \"HIS\", \"K\" : \"LYS\", \"S\" : \"SER\",\n",
    "              \"T\" : \"THR\", \"C\" : \"CYS\", \"M\" : \"MET\", \"N\" : \"ASN\", \"Q\" : \"GLN\"\n",
    "    }"
   ]
  },
  {
   "cell_type": "code",
   "execution_count": 35,
   "metadata": {},
   "outputs": [
    {
     "name": "stdout",
     "output_type": "stream",
     "text": [
      "    Gene Mutation  aa position parent aa mutated aa\n",
      "0   argA    H162R          162       HIS        ARG\n",
      "1   argA    R342L          342       ARG        LEU\n",
      "2   argA    A232T          232       ALA        THR\n",
      "3   argA    A386T          386       ALA        THR\n",
      "4   argA    D166E          166       ASP        GLU\n",
      "..   ...      ...          ...       ...        ...\n",
      "70  argA    V129I          129       VAL        ILE\n",
      "71  argA    V234I          234       VAL        ILE\n",
      "72  argA    K359N          359       LYS        ASN\n",
      "73  argA    L121M          121       LEU        MET\n",
      "74  argA     V97L           97       VAL        LEU\n",
      "\n",
      "[75 rows x 5 columns]\n"
     ]
    }
   ],
   "source": [
    "# in mut frequency, the mutations are in the form of \"A123G\"\n",
    "# we want to convert the letters to the three letter code in two columns calles parent_aa and child_aa\n",
    "mut_frequency['parent aa'] = mut_frequency['Mutation'].str[0].map(three_one)\n",
    "mut_frequency['mutated aa'] = mut_frequency['Mutation'].str[-1].map(three_one)\n",
    "print(mut_frequency)"
   ]
  },
  {
   "cell_type": "code",
   "execution_count": 36,
   "metadata": {},
   "outputs": [
    {
     "name": "stdout",
     "output_type": "stream",
     "text": [
      "52\n"
     ]
    }
   ],
   "source": [
    "merged_oligos = pd.merge(all_df, mut_frequency, on=['Gene', 'aa position', 'parent aa', 'mutated aa'], how='inner')\n",
    "#merged_oligos = merged_oligos.drop_duplicates(subset=['Reference'])\n",
    "print(len(merged_oligos))"
   ]
  },
  {
   "cell_type": "code",
   "execution_count": 37,
   "metadata": {},
   "outputs": [
    {
     "name": "stdout",
     "output_type": "stream",
     "text": [
      "6362\n"
     ]
    }
   ],
   "source": [
    "# Perform the merge with indicator\n",
    "merged_with_indicator = pd.merge(all_df, mut_frequency, on=['Gene', 'aa position', 'parent aa', 'mutated aa'], how='left', indicator=True)\n",
    "\n",
    "# Select rows that are only in all_df (i.e., non-matching rows)\n",
    "non_matching_rows = merged_with_indicator[merged_with_indicator['_merge'] == 'left_only'].drop(columns=['_merge'])\n",
    "\n",
    "# Drop duplicates based on 'Reference'\n",
    "#non_matching_rows = non_matching_rows.drop_duplicates(subset=['Reference'])\n",
    "\n",
    "# Display or use non_matching_rows\n",
    "print(len(non_matching_rows))\n"
   ]
  },
  {
   "cell_type": "code",
   "execution_count": 38,
   "metadata": {},
   "outputs": [
    {
     "name": "stdout",
     "output_type": "stream",
     "text": [
      "Unique mutated aa values: ['ARG' 'LEU' 'THR' 'VAL' 'GLU' 'LYS' 'GLN' 'ILE' 'MET' 'SER' 'TYR' 'ASN'\n",
      " 'ALA' 'ASP' 'HIS' 'CYS']\n"
     ]
    }
   ],
   "source": [
    "unique_mutated_aa = non_matching_rows['mutated aa'].unique()\n",
    "print(f\"Unique mutated aa values: {unique_mutated_aa}\")"
   ]
  },
  {
   "cell_type": "code",
   "execution_count": 39,
   "metadata": {},
   "outputs": [
    {
     "name": "stdout",
     "output_type": "stream",
     "text": [
      "ARG    1118\n",
      "LEU     853\n",
      "SER     837\n",
      "THR     786\n",
      "VAL     492\n",
      "ILE     405\n",
      "GLU     295\n",
      "ALA     284\n",
      "GLN     272\n",
      "LYS     239\n",
      "TYR     229\n",
      "ASN     226\n",
      "ASP     145\n",
      "MET     109\n",
      "HIS      56\n",
      "CYS      16\n",
      "Name: mutated aa, dtype: int64\n",
      "6362\n"
     ]
    }
   ],
   "source": [
    "mutated_aa_counts = non_matching_rows['mutated aa'].value_counts()\n",
    "print(mutated_aa_counts)\n",
    "print(sum(mutated_aa_counts))"
   ]
  },
  {
   "cell_type": "code",
   "execution_count": null,
   "metadata": {},
   "outputs": [
    {
     "data": {
      "image/png": "[encoded data removed]",
      "text/plain": [
       "<Figure size 720x360 with 1 Axes>"
      ]
     },
     "metadata": {
      "needs_background": "light"
     },
     "output_type": "display_data"
    }
   ],
   "source": []
  },
  {
   "cell_type": "code",
   "execution_count": 43,
   "metadata": {},
   "outputs": [
    {
     "name": "stdout",
     "output_type": "stream",
     "text": [
      "SER    24\n",
      "THR    16\n",
      "GLU     6\n",
      "TYR     6\n",
      "Name: mutated aa, dtype: int64\n",
      "52\n"
     ]
    }
   ],
   "source": [
    "mutated_aa_counts_clinical = merged_oligos['mutated aa'].value_counts()\n",
    "print(mutated_aa_counts_clinical)\n",
    "print(sum(mutated_aa_counts_clinical))"
   ]
  },
  {
   "cell_type": "code",
   "execution_count": 75,
   "metadata": {},
   "outputs": [],
   "source": [
    "pathways = pd.read_excel(\"20240304_Mutations_Metabolic_Genes.xlsx\")\n",
    "merged_oligos = pd.merge(merged_oligos, pathways[['gene', 'Pathway']], on='gene', how='left')\n"
   ]
  },
  {
   "cell_type": "code",
   "execution_count": null,
   "metadata": {},
   "outputs": [
    {
     "name": "stdout",
     "output_type": "stream",
     "text": [
      "13132\n",
      "38\n",
      "       gene  aa position mutated aa\n",
      "0      accB           36        THR\n",
      "3      aceA           50        SER\n",
      "29     aceB           12        THR\n",
      "8      aceB           14        ARG\n",
      "38     aceB           15        TRP\n",
      "...     ...          ...        ...\n",
      "13120  zntA           26        VAL\n",
      "13117  zntA           28        GLU\n",
      "13126   zwf           40        THR\n",
      "13123   zwf           73        ALA\n",
      "13129   zwf           84        GLY\n",
      "\n",
      "[4812 rows x 3 columns]\n"
     ]
    }
   ],
   "source": [
    "print(len(merged_oligos))\n",
    "# print the number of unique pathways\n",
    "print(merged_oligos['Pathway'].nunique())\n",
    "print(merged_oligos['gene'].nunique())\n",
    "# print unique genes + positions + mutated aa\n",
    "print(merged_oligos[['gene', 'aa position', 'mutated aa']].drop_duplicates().sort_values(by=['gene', 'aa position']))"
   ]
  },
  {
   "cell_type": "code",
   "execution_count": null,
   "metadata": {},
   "outputs": [],
   "source": [
    "#save the merged file\n",
    "merged_oligos.to_excel('merged_oligos.xlsx', index=False)"
   ]
  }
 ],
 "metadata": {
  "kernelspec": {
   "display_name": "Python 3",
   "language": "python",
   "name": "python3"
  },
  "language_info": {
   "codemirror_mode": {
    "name": "ipython",
    "version": 3
   },
   "file_extension": ".py",
   "mimetype": "text/x-python",
   "name": "python",
   "nbconvert_exporter": "python",
   "pygments_lexer": "ipython3",
   "version": "3.10.4"
  }
 },
 "nbformat": 4,
 "nbformat_minor": 2
}
